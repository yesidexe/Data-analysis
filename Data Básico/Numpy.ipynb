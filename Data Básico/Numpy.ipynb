{
 "cells": [
  {
   "cell_type": "markdown",
   "metadata": {},
   "source": [
    "# Numpy"
   ]
  },
  {
   "cell_type": "code",
   "execution_count": 1,
   "metadata": {},
   "outputs": [],
   "source": [
    "import numpy as np"
   ]
  },
  {
   "cell_type": "markdown",
   "metadata": {},
   "source": [
    "## Arrays\n",
    "Con los arreglos de numpy una vez fijamos su longitud no se puede cambiar, los elementos si, pero la longitud no, es decir puedo cambiar individualmente los elementos pero no añadir."
   ]
  },
  {
   "cell_type": "code",
   "execution_count": null,
   "metadata": {},
   "outputs": [],
   "source": [
    "array = np.array([1,2,3,4,5])\n",
    "\n",
    "print(f''' \n",
    "    Tamaño: {array.size}, y con len {len(array)}\n",
    "    Dimensiones: {array.ndim}\n",
    "    Tipo de datos que almacena: {array.dtype}\n",
    "    Dimensiones con elementos que posee: {array.shape}\n",
    "    ''')"
   ]
  },
  {
   "cell_type": "markdown",
   "metadata": {},
   "source": [
    "A diferencia de las listas, con numpy podemos hacer operaciones con todos los elementos a la vez y almacenarlo en una variable, y también realizar operaciones entre arrays, solo SI tienen el mismo tamaño"
   ]
  },
  {
   "cell_type": "code",
   "execution_count": null,
   "metadata": {},
   "outputs": [],
   "source": [
    "# aclaro nuevamente que con listas no se puede hacer, solo np.array\n",
    "array = np.array([1,2,3,4,5,6,7,8,9,10])\n",
    "#el arange es igual al range de python sin numpy\n",
    "array2 = np.array(np.arange(1,11))\n",
    "\n",
    "array_mas_diez = array + 10\n",
    "array_3 = array + array2\n",
    "\n",
    "print(array_mas_diez, array_3)"
   ]
  },
  {
   "cell_type": "markdown",
   "metadata": {},
   "source": [
    "Podemos asignar un tipo diferente a nuestros arrays"
   ]
  },
  {
   "cell_type": "code",
   "execution_count": null,
   "metadata": {},
   "outputs": [],
   "source": [
    "array = np.array([1,2,3,4,5], dtype=np.float64)\n",
    "array.dtype"
   ]
  },
  {
   "cell_type": "markdown",
   "metadata": {},
   "source": [
    "Maneras de crear arrays, arange, zeros, ones, empty y randint"
   ]
  },
  {
   "cell_type": "code",
   "execution_count": null,
   "metadata": {},
   "outputs": [],
   "source": [
    "arange = np.arange(1,5)\n",
    "zeros = np.zeros(4, dtype=np.int32)\n",
    "ones = np.ones(4, dtype=np.int32)\n",
    "#genera valores basura, enteros, flotantes, booleanos, como sea\n",
    "valores_basura = np.empty(4)\n",
    "# genera valores aleatorios de 1 a 5 con longitud 4\n",
    "random_int = np.random.randint(1,5,4)\n",
    "\n",
    "print(arange, zeros, ones, valores_basura, random_int)"
   ]
  },
  {
   "cell_type": "markdown",
   "metadata": {},
   "source": [
    "Obtener y actualizar elementos, que tecnicamente es igual a la normal"
   ]
  },
  {
   "cell_type": "code",
   "execution_count": null,
   "metadata": {},
   "outputs": [],
   "source": [
    "array  = np.random.randint(0,10,10)\n",
    "\n",
    "#para modificar\n",
    "array[0] = 100\n",
    "\n",
    "#para obtener\n",
    "array[0]"
   ]
  },
  {
   "cell_type": "markdown",
   "metadata": {},
   "source": [
    "Sub arreglos, o obtener varios numeros"
   ]
  },
  {
   "cell_type": "code",
   "execution_count": null,
   "metadata": {},
   "outputs": [],
   "source": [
    "array  = np.random.randint(0,10,20)\n",
    "\n",
    "#array[start:end:step]\n",
    "array[0:5]\n",
    "\n",
    "#para obtener valores de varios indices y no uno solo\n",
    "array[[0,1,3]]\n",
    "\n",
    "#tambien se puede con booleanos tipo, este si este no, pero true false y ya"
   ]
  },
  {
   "cell_type": "markdown",
   "metadata": {},
   "source": [
    "Vectorizar funciones, por ejemplo, aplicamos una función a un arreglo, por medio de un ciclo, esto nos va dando enteros y no un array, para eso se usa vectorizar"
   ]
  },
  {
   "cell_type": "code",
   "execution_count": null,
   "metadata": {},
   "outputs": [],
   "source": [
    "array = np.array([1,2,3,4,5])\n",
    "\n",
    "#creamos el vector y le pasamos la función\n",
    "vector = np.vectorize(lambda x: (x**2)+2)\n",
    "\n",
    "#Luego pasamos el array al que queremos aplicarle esa función\n",
    "vector(array)"
   ]
  },
  {
   "cell_type": "markdown",
   "metadata": {},
   "source": [
    "Copias (nuevo arreglo de otro) y Vistas (una vista a el objeto original) Si usamos id() vemos de donde provienen"
   ]
  },
  {
   "cell_type": "code",
   "execution_count": null,
   "metadata": {},
   "outputs": [],
   "source": [
    "#original\n",
    "array = np.arange(1,10)\n",
    "\n",
    "#copia\n",
    "copia = array.copy()\n",
    "copia\n",
    "\n",
    "#una manera sencilla de vista\n",
    "array.view()\n",
    "\n",
    "#otra manera\n",
    "vista = array[:]"
   ]
  },
  {
   "cell_type": "markdown",
   "metadata": {},
   "source": [
    "Matrices\n",
    "Axis0 = Filas\n",
    "Axis1 = Columnas"
   ]
  },
  {
   "cell_type": "code",
   "execution_count": null,
   "metadata": {},
   "outputs": [],
   "source": [
    "#manera normal\n",
    "matriz = np.array([[1,2,3,4,5],[6,7,8,9,10],[11,12,13,14,15]])\n",
    "\n",
    "#para ver podemos usar lo del principio para ver la forma\n",
    "matriz.shape\n",
    "\n",
    "#y para ver las dimensiones\n",
    "matriz.ndim\n",
    "\n",
    "#acceder de la manera facil\n",
    "matriz[0,2]\n",
    "\n",
    "#para obtener varios podemos usar el :\n",
    "matriz[:,3]\n"
   ]
  },
  {
   "cell_type": "markdown",
   "metadata": {},
   "source": [
    "Métodos de agregación que se palican a toda la matriz o individuales"
   ]
  },
  {
   "cell_type": "code",
   "execution_count": null,
   "metadata": {},
   "outputs": [],
   "source": [
    "matriz = np.array([[1,2,3,4,5],[6,7,8,9,10],[11,12,13,14,15]])\n",
    "\n",
    "print(f'''\n",
    "    MÉTODOS APLICADOS A TODA LA MATRIZ\n",
    "    Desviación estandar, {matriz.std()}\n",
    "    Suma total, {matriz.sum()}\n",
    "    Valor mínimo, {matriz.min()}\n",
    "    Valor máximo, {matriz.max()}\n",
    "    Promedio, {matriz.mean()}\n",
    "    ''')\n",
    "\n",
    "print(f'''\n",
    "    MÉTODOS APLICADOS A CADA FILA\n",
    "    Sumar la fila 2, {matriz[1].sum()}\n",
    "    Valor máximo y mínimo segunda fila, {matriz[1].max()} {matriz[1].min()}\n",
    "    Promedio de la tercera columna, {matriz[:,2].mean()}    \n",
    "    ''')"
   ]
  },
  {
   "cell_type": "markdown",
   "metadata": {},
   "source": [
    "Transposición o Transpuesta de la matriz"
   ]
  },
  {
   "cell_type": "code",
   "execution_count": null,
   "metadata": {},
   "outputs": [],
   "source": [
    "matriz = np.array([ [1,2,3,4,5],\n",
    "                    [6,7,8,9,10],\n",
    "                    [11,12,13,14,15]\n",
    "                ])\n",
    "matriz.T\n",
    "\n",
    "#gracias a esto podemos realizar ciertas operaciones como...\n",
    "matriz[:,4].sum()\n",
    "matriz.T[4].sum()"
   ]
  },
  {
   "cell_type": "markdown",
   "metadata": {},
   "source": [
    "Filtros y condiciones"
   ]
  },
  {
   "cell_type": "code",
   "execution_count": null,
   "metadata": {},
   "outputs": [],
   "source": [
    "#podemos devolver valroes de la siguiente manera, con la condición dentro\n",
    "#de corchetes\n",
    "array[array>50]\n",
    "array[(array>50) & (array<100)]\n"
   ]
  },
  {
   "cell_type": "markdown",
   "metadata": {},
   "source": [
    "Condiciones"
   ]
  },
  {
   "cell_type": "code",
   "execution_count": null,
   "metadata": {},
   "outputs": [],
   "source": [
    "array = np.random.randint(1, 100, 50)\n",
    "\n",
    "#si todos son mayores a 50\n",
    "np.all(array > 50)\n",
    "\n",
    "#cualquier valor que cumpla seria\n",
    "np.any((a>=0) & (a<=100))\n"
   ]
  },
  {
   "cell_type": "markdown",
   "metadata": {},
   "source": [
    "Funciones Where y Select, \n",
    "Where nos crea un array con los resultados que obtuvimos pero DOS condiciones,\n",
    "Select nos permite seleccionar condiciones y opciones"
   ]
  },
  {
   "cell_type": "code",
   "execution_count": null,
   "metadata": {},
   "outputs": [],
   "source": [
    "notas = np.random.randint(1, 10, 10)\n",
    "\n",
    "# Con 2 tipos de mensajes\n",
    "np.where(\n",
    "    notas >= 7,\n",
    "    'Felicidades, aprobaste la materia',\n",
    "    'Lo sentimos, no aprobaste la materia'\n",
    ")\n",
    "\n",
    "# Con 4 tipos de mensajes\n",
    "condiciones = [\n",
    "    (notas == 10),\n",
    "    (notas == 8) | (notas == 9),\n",
    "    (notas == 7),\n",
    "    (notas < 7)\n",
    "]\n",
    "\n",
    "opciones = [\n",
    "    'Felicidades, aprobaste la materia con 10',\n",
    "    'Felicidades, aprobaste la materia con 8 o 9',\n",
    "    'Felicidades, aprobaste la materia con 7',\n",
    "    'Lo sentimos, no aprobaste la materia'\n",
    "]\n",
    "\n",
    "#el ultimo paso seria usar select así\n",
    "np.select(condiciones, opciones)"
   ]
  },
  {
   "cell_type": "markdown",
   "metadata": {},
   "source": [
    "Crear y leer archivos (texto plano)"
   ]
  },
  {
   "cell_type": "code",
   "execution_count": 11,
   "metadata": {},
   "outputs": [],
   "source": [
    "# Crear un archivo txt desde un array\n",
    "array = np.random.randint(1,50,10)\n",
    "\n",
    "#esto me guarda un txt con los datos del arreglo que pasé\n",
    "#es IMPORTANTE pasar el formato\n",
    "np.savetxt('arreglo.txt',array, fmt='%i')\n",
    "\n",
    "# Con este código visualizo el contenido\n",
    "# %load arreglo.txt"
   ]
  },
  {
   "cell_type": "code",
   "execution_count": null,
   "metadata": {},
   "outputs": [],
   "source": [
    "# Cargar archivos, tambien podemos indicarle el formato\n",
    "np.loadtxt('arreglo.txt', dtype=int)"
   ]
  },
  {
   "cell_type": "code",
   "execution_count": null,
   "metadata": {},
   "outputs": [],
   "source": [
    "#Como guardo una matriz? CSV\n",
    "\n",
    "#Como convertir un array en una matriz?\n",
    "array = np.random.randint(1,50,10)\n",
    "matriz = array.reshape(2,5)\n",
    "\n",
    "#guardamos la matriz en un archivo CSV\n",
    "np.savetxt('matriz.csv', matriz, delimiter=',',fmt='%i')\n",
    "\n",
    "np.loadtxt('matriz.csv',delimiter=',', dtype=int)\n"
   ]
  },
  {
   "cell_type": "markdown",
   "metadata": {},
   "source": [
    "Save y Load (binario)"
   ]
  },
  {
   "cell_type": "code",
   "execution_count": null,
   "metadata": {},
   "outputs": [],
   "source": [
    "array = np.random.randint(1,50,10)\n",
    "\n",
    "np.save('arreglo_binario.npy',array)\n",
    "\n",
    "#no se puede leer como archivo, tocaria con load\n",
    "np.load('arreglo_binario.npy')"
   ]
  },
  {
   "cell_type": "markdown",
   "metadata": {},
   "source": [
    "Modificar arreglos, un arreglo no puede cambiar su longitud, pero y si quisieramos?"
   ]
  },
  {
   "cell_type": "code",
   "execution_count": null,
   "metadata": {},
   "outputs": [],
   "source": [
    "array = np.random.randint(1,10,10)\n",
    "array2 = np.random.randint(1,10,5)\n",
    "print(array)\n",
    "\n",
    "# Esto no modifica al array original\n",
    "# insert(array, posicion, valor)\n",
    "np.insert(array, 0, 40)\n",
    "\n",
    "# Esto tampoco modifica al array original\n",
    "# append(array, valor)\n",
    "np.append(array, 50)\n",
    "\n",
    "# delete(array, posicion)\n",
    "np.delete(array, -1)\n",
    "\n",
    "# resize(array, nuevo tamaño)\n",
    "np.resize(array, 5)\n",
    "\n",
    "#combinar arreglos\n",
    "np.concatenate([array, array2])"
   ]
  },
  {
   "cell_type": "markdown",
   "metadata": {},
   "source": [
    "Ordenamiento"
   ]
  },
  {
   "cell_type": "code",
   "execution_count": 51,
   "metadata": {},
   "outputs": [
    {
     "data": {
      "text/plain": [
       "array([9, 8, 8, 7, 7, 7, 7, 7, 7, 7, 6, 4, 3, 3, 2, 2, 2, 2, 2, 1])"
      ]
     },
     "execution_count": 51,
     "metadata": {},
     "output_type": "execute_result"
    }
   ],
   "source": [
    "array = np.random.randint(1,10,20)\n",
    "\n",
    "array.sort()\n",
    "\n",
    "#al reves, esta genera un nuevo array\n",
    "array[::-1]\n",
    "#con numpy\n",
    "np.sort(array)[::-1]\n"
   ]
  }
 ],
 "metadata": {
  "kernelspec": {
   "display_name": "Python 3",
   "language": "python",
   "name": "python3"
  },
  "language_info": {
   "codemirror_mode": {
    "name": "ipython",
    "version": 3
   },
   "file_extension": ".py",
   "mimetype": "text/x-python",
   "name": "python",
   "nbconvert_exporter": "python",
   "pygments_lexer": "ipython3",
   "version": "3.12.0"
  }
 },
 "nbformat": 4,
 "nbformat_minor": 2
}
