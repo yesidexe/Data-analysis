{
 "cells": [
  {
   "cell_type": "markdown",
   "metadata": {},
   "source": [
    "Ejercicios"
   ]
  },
  {
   "cell_type": "code",
   "execution_count": 40,
   "metadata": {},
   "outputs": [
    {
     "data": {
      "text/plain": [
       "66"
      ]
     },
     "execution_count": 40,
     "metadata": {},
     "output_type": "execute_result"
    }
   ],
   "source": [
    "import numpy as np\n",
    "import pandas as pd\n",
    "\n",
    "df = pd.read_csv('../users.csv')\n",
    "\n",
    "# Retrieve the name and email of all users\n",
    "df[['nombre','email']]\n",
    "\n",
    "# Retrieve the names of all users whose gender is Female\n",
    "df[df['genero']=='female']['nombre']\n",
    "\n",
    "# Retrieve the names of all users whose gender is Male\n",
    "df[df['genero']=='male']['nombre']\n",
    "\n",
    "# Retrieve of all users whose age is greater than 20\n",
    "df[df['edad']>20]\n",
    "\n",
    "# Retrieve the username and email of all users whose age is between 10 and 20\n",
    "df[df['edad'].between(10,20)][['nombre','email']]\n",
    "\n",
    "# Retrieve the username of all users whose email does not end with @example.com\n",
    "# The symbol ~ (alt + 126) indicates the inversion of conditions\n",
    "df[~df['email'].str.endswith('@example.com')]['nombre']\n",
    "\n",
    "# Retrieve the username of all users whose country are Germany, Finland or Canada\n",
    "df[df['pais'].isin(['Germany', 'Finland', 'Canada'])]['nombre']\n",
    "\n",
    "# Retrieve the name and email of all female users from Germany\n",
    "df[(df['genero'] == 'female') & (df['pais'] == 'Germany')][['nombre','email']]\n",
    "\n",
    "# Retrieve the average age of all female users from Canada who are older than 20\n",
    "df[(df['pais']=='Canada')&(df['genero']=='female')&(df['edad']>20)]['edad'].mean()\n",
    "\n",
    "# Determine the number of users residing in Finland\n",
    "df[df['pais']=='Finland']['nombre'].count()\n",
    "\n",
    "# Display in the console the number of men and women in the dataframe\n",
    "df['genero'].value_counts()\n",
    "df.groupby('genero')['genero'].count()\n",
    "\n",
    "#  Display in the console the country with the most women\n",
    "df[df['genero']=='female'].groupby('pais')['pais'].count().sort_values(ascending=False).head(1)\n",
    "\n",
    "# Retrieve the top 3 countries with the most users\n",
    "df.groupby('pais')['pais'].count().sort_values(ascending=False).head(3)\n",
    "\n",
    "# ! Otros ejercicios\n",
    "\n",
    "# Display in the console the names of all users whose age falls within the range of 10 to 20 and 40 to 70\n",
    "df[(df['edad'].between(10,20))|(df['edad'].between(40,70))]['nombre']\n",
    "\n",
    "# Display in the console the names of all users with email\n",
    "df[~df['email'].str.endswith('example.com')]['nombre']\n",
    "\n",
    "# Display in the console the name and email of the youngest Canadian user\n",
    "df[(df['pais']=='Canada')&(df['edad'] == df[df['pais']=='Canada']['edad'].min() )][['nombre','email','edad']]\n",
    "\n",
    "# List in the console the 3 countries with the fewest users\n",
    "df.groupby('pais')['pais'].count().sort_values(ascending=True).head(3)\n",
    "\n",
    "# Retrieve the country with the highest number of users whose age is greater than 50\n",
    "df[df['edad']>50].groupby('pais')['pais'].count().sort_values(ascending=False).head(1)\n",
    "\n",
    "# Obtener el país con mayor promedio de edad.\n",
    "df.groupby('pais')['edad'].mean().sort_values(ascending=False).head(1)\n",
    "\n",
    "# Mostrar en consola el país con más hombres.\n",
    "df[df['genero']=='male'].groupby('pais')['pais'].count().sort_values(ascending=False).head(1)\n",
    "\n",
    "# Mostrar en consola el nombre, username y edad de todos los usuarios cuya edad es mayor a 10 y no sean del país México, Brasil y Canadá.\n",
    "df[(df['edad']>10)&(~df['pais'].isin(['Mexico','Brazil','Canada']))][['nombre','edad']]\n",
    "\n",
    "# Obtener la edad que menos se repite en el DataFrame.\n",
    "df['edad'].value_counts().idxmin()\n",
    "\n",
    "# Obtener la edad que más se repite en el DataFrame.\n",
    "df['edad'].value_counts().idxmax()\n"
   ]
  }
 ],
 "metadata": {
  "kernelspec": {
   "display_name": "Python 3",
   "language": "python",
   "name": "python3"
  },
  "language_info": {
   "codemirror_mode": {
    "name": "ipython",
    "version": 3
   },
   "file_extension": ".py",
   "mimetype": "text/x-python",
   "name": "python",
   "nbconvert_exporter": "python",
   "pygments_lexer": "ipython3",
   "version": "3.12.0"
  }
 },
 "nbformat": 4,
 "nbformat_minor": 2
}
