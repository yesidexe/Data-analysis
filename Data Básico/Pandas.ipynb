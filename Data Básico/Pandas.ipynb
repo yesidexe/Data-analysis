{
 "cells": [
  {
   "cell_type": "markdown",
   "metadata": {},
   "source": [
    "# Pandas"
   ]
  },
  {
   "cell_type": "code",
   "execution_count": 38,
   "metadata": {},
   "outputs": [],
   "source": [
    "import pandas as pd"
   ]
  },
  {
   "cell_type": "markdown",
   "metadata": {},
   "source": [
    "Series, trabajan con array e indices"
   ]
  },
  {
   "cell_type": "code",
   "execution_count": null,
   "metadata": {},
   "outputs": [],
   "source": [
    "serie = pd.Series([1,2,3,4,5])\n",
    "\n",
    "#para obtener valores o asignarlos es igual que siempre\n",
    "serie[0]\n",
    "serie[0] = 10\n",
    "\n",
    "#Podemos especificar los index, tambien podemos ponerle nombre\n",
    "serie2 = pd.Series([1,2,3,4,5], index=['a','b','c','d','e'], name='Numeros', dtype=int)\n",
    "\n",
    "#para acceder es igual\n",
    "serie2['b']"
   ]
  },
  {
   "cell_type": "markdown",
   "metadata": {},
   "source": [
    "Crear series con diccionarios"
   ]
  },
  {
   "cell_type": "code",
   "execution_count": null,
   "metadata": {},
   "outputs": [],
   "source": [
    "colores = {\n",
    "    'rojo' : 100,\n",
    "    'verde' : 200,\n",
    "    'azul' : 300,\n",
    "    'negro' : 400\n",
    "}\n",
    "\n",
    "pd.Series(colores)"
   ]
  },
  {
   "cell_type": "markdown",
   "metadata": {},
   "source": [
    "Valores nulos (NaN)"
   ]
  },
  {
   "cell_type": "code",
   "execution_count": null,
   "metadata": {},
   "outputs": [],
   "source": [
    "import numpy as np\n",
    "\n",
    "a = pd.Series([2,3,np.nan,np.nan,5,6,7,np.nan])\n",
    "\n",
    "#isnull - notnull\n",
    "a.isnull()\n",
    "\n",
    "#para conocer especificamente los nulos se puede hacer esto\n",
    "a[a.isnull()]"
   ]
  },
  {
   "cell_type": "markdown",
   "metadata": {},
   "source": [
    "DataFrame"
   ]
  },
  {
   "cell_type": "code",
   "execution_count": 43,
   "metadata": {},
   "outputs": [
    {
     "data": {
      "text/plain": [
       "array([['user1', 'user1@example.com', 20, True],\n",
       "       ['user2', 'user2@example.com', 21, True],\n",
       "       ['user3', 'user3@example.com', 22, False]], dtype=object)"
      ]
     },
     "execution_count": 43,
     "metadata": {},
     "output_type": "execute_result"
    }
   ],
   "source": [
    "usuarios = {\n",
    "    'username':['user1','user2','user3'],\n",
    "    'email': ['user1@example.com','user2@example.com','user3@example.com'],\n",
    "    'edad': [20,21,22],\n",
    "    'status': [True, True, False]\n",
    "}\n",
    "\n",
    "data = pd.DataFrame(usuarios)\n",
    "\n",
    "# si queremos conocer los valores de una columna \n",
    "data['username']\n",
    "\n",
    "# si queremos ver las columnas y values\n",
    "data.columns\n",
    "data.values"
   ]
  },
  {
   "cell_type": "markdown",
   "metadata": {},
   "source": [
    "Columnas (las columnas son series)"
   ]
  },
  {
   "cell_type": "code",
   "execution_count": 53,
   "metadata": {},
   "outputs": [],
   "source": [
    "import numpy as np\n",
    "\n",
    "#es IMPORTANTE agregar los indices, porque si tenemos otros quedaran como NaN\n",
    "calificaciones = pd.Series(np.random.randint(5,10, 3),index=[0,1,2])\n",
    "\n",
    "#agregamos la columna al df anterior de usuarios, data\n",
    "data['calificaciones'] = calificaciones\n",
    "\n",
    "#puedo renombrar columnas así\n",
    "data = data.rename(\n",
    "    columns={'calificaciones':'score'},\n",
    ")\n",
    "\n",
    "#eliminar columnas\n",
    "del data['score']\n"
   ]
  },
  {
   "cell_type": "markdown",
   "metadata": {},
   "source": [
    "Leer archivos csv"
   ]
  },
  {
   "cell_type": "code",
   "execution_count": null,
   "metadata": {},
   "outputs": [],
   "source": [
    "# si quiero cambiar el indice, o elegir el indice uso index_col\n",
    "'''\n",
    "    Acá pasó algo, que el indice no tenia nombre, entonces hice lo siguiente,\n",
    "    no sé si esté bien pero lo hice, simplemente cambié el nombre del indice\n",
    "'''\n",
    "df = pd.read_csv('users.csv', index_col=0)\n",
    "df.index.name = 'id'\n",
    "\n",
    "# Si quiero obtener las primeras 5 filas uso head() y las ultimas uso tail()\n",
    "# También puedo especificar cuantas filas quiero usando el parámetro head(n)\n",
    "df.head(6)\n"
   ]
  },
  {
   "cell_type": "markdown",
   "metadata": {},
   "source": [
    "Limpieza de datos (Para hacer una limpieza hay que ser preciso y analizarlo, esto son maneras de hacerlo nada más)"
   ]
  },
  {
   "cell_type": "code",
   "execution_count": null,
   "metadata": {},
   "outputs": [],
   "source": [
    "df = pd.read_csv('users.csv', index_col=0)\n",
    "df.index.name = 'id'\n",
    "\n",
    "#Usando dropna elimina las filas que carezcan de valores\n",
    "df.dropna()\n",
    "\n",
    "#pero si queremos poner valores en vez de eliminarlas?\n",
    "df.fillna('Nuevo valor')\n",
    "\n",
    "#podemos hacerlo con diccionarios para hacerlo más preciso por columna\n",
    "df.fillna({'nombre':'Sin nombre','email':'example@example.com'})"
   ]
  },
  {
   "cell_type": "markdown",
   "metadata": {},
   "source": [
    "Atributo loc (strings)<br>\n",
    "Siempre que queramos obtener filas usamos el indice, si es entero usamos iloc, si es string usamos loc"
   ]
  },
  {
   "cell_type": "code",
   "execution_count": null,
   "metadata": {},
   "outputs": [],
   "source": [
    "#crearé un diccionario de usuarios con 5 usuarios y 5 emails\n",
    "usuarios = {\n",
    "    'username':['user1','user2','user3','user4','user5'],\n",
    "    'email': ['user1@example.com','user2@example.com','user3@example.com','user4@example.com','user5@example.com'],\n",
    "    'age': [20,21,22,23,24],\n",
    "    'status': [True,False,True,True,False]\n",
    "}\n",
    "\n",
    "df = pd.DataFrame(usuarios, index=['a','b','c','d','e'])\n",
    "\n",
    "# Para obtener la primera fila con loc\n",
    "df.loc['a']\n",
    "\n",
    "# generar subdataframes con las 3 primeras filas\n",
    "# con las primeras 2 columnas (ambas formas sirven)\n",
    "df.loc['a':'c',['username','email']]\n",
    "df.loc['a':'c'][['username','email']]"
   ]
  },
  {
   "cell_type": "markdown",
   "metadata": {},
   "source": [
    "Atributo iloc (enteros)<br>\n",
    "Siempre que queramos obtener filas usamos el indice, si es entero usamos iloc, si es string usamos loc"
   ]
  },
  {
   "cell_type": "code",
   "execution_count": null,
   "metadata": {},
   "outputs": [],
   "source": [
    "df = pd.read_csv('users.csv', index_col=0)\n",
    "df.index.name = 'id'\n",
    "\n",
    "# Recuerden que para obtener un valor de la columa es tan facil como\n",
    "df['nombre']\n",
    "\n",
    "# para llamar filas usamos iloc y loc\n",
    "df.iloc[0]\n",
    "\n",
    "# 5 filas\n",
    "df.iloc[0:5]\n",
    "\n",
    "# obteniendo con las columnas o tambien\n",
    "df.iloc[:3][['nombre','email']]\n",
    "df.iloc[:2,[0,4]]"
   ]
  },
  {
   "cell_type": "markdown",
   "metadata": {},
   "source": [
    "Condicionales"
   ]
  },
  {
   "cell_type": "code",
   "execution_count": 83,
   "metadata": {},
   "outputs": [
    {
     "data": {
      "text/plain": [
       "52.06818181818182"
      ]
     },
     "execution_count": 83,
     "metadata": {},
     "output_type": "execute_result"
    }
   ],
   "source": [
    "df = pd.read_csv('users.csv',index_col=0)\n",
    "df.index.name = 'id'\n",
    "df = df.dropna()\n",
    "\n",
    "# Obtener el nombre de todos los usuarios del país canadá\n",
    "df[df['pais'] == 'Canada']['nombre']\n",
    "\n",
    "# Obtener el nombre y corre electrónico de todos los usuarios con edad mayor a 50\n",
    "df[df['edad'] > 50][['nombre','email']]\n",
    "\n",
    "# Obtener el promedio de todos los usuarios de sexo femenino con una edad mayor a 30\n",
    "df[(df['edad'] > 30) & (df['genero'] == 'female')]['edad'].mean()\n",
    "\n"
   ]
  },
  {
   "cell_type": "markdown",
   "metadata": {},
   "source": [
    "Ordanmiento, ordenar"
   ]
  },
  {
   "cell_type": "code",
   "execution_count": null,
   "metadata": {},
   "outputs": [],
   "source": [
    "#Obtener el usuario más joven del país Canadá\n",
    "df[df['pais'] == 'Canada'].sort_values('edad').head(1)\n",
    "\n",
    "# Obtener a los 5 usuarios más viejos de Alemania\n",
    "df[df['pais'] == 'Germany'].sort_values('edad').tail(5)\n",
    "df[df['pais'] == 'Germany'].sort_values('edad',ascending=False).head(5)\n"
   ]
  },
  {
   "cell_type": "markdown",
   "metadata": {},
   "source": [
    "Busqueda por rangos"
   ]
  },
  {
   "cell_type": "code",
   "execution_count": null,
   "metadata": {},
   "outputs": [],
   "source": [
    "#Obtener todos los usuarios entre las edades de 40 y 50\n",
    "df[(df['edad']>=40)&(df['edad']<=50)].sort_values('edad',ascending=True)\n",
    "df[df['edad'].between(40,50)].sort_values('edad',ascending=False)"
   ]
  },
  {
   "cell_type": "markdown",
   "metadata": {},
   "source": [
    "Busqueda entre opciones"
   ]
  },
  {
   "cell_type": "code",
   "execution_count": null,
   "metadata": {},
   "outputs": [],
   "source": [
    "# Obtener el nombre de todos los usuarios mayores a 30 años de los paises canadá, alemania y francia\n",
    "\n",
    "# Podriamos hacer con or y and pero es mejor hacerlo así\n",
    "countries = ['Canada', 'Germany', 'France']\n",
    "df[(df['edad']>30) & (data['pais'].isin(countries)) ]"
   ]
  },
  {
   "cell_type": "markdown",
   "metadata": {},
   "source": [
    "Métodos string (startswidth - endswith - contains)"
   ]
  },
  {
   "cell_type": "code",
   "execution_count": null,
   "metadata": {},
   "outputs": [],
   "source": [
    "# Obtener palabras que empiezan, o comiencen por a\n",
    "df[df['email'].str.startswith('a')]\n",
    "\n",
    "# Obtener usuarios que el email acabe en .com\n",
    "df[df['email'].str.endswith('.com')]\n",
    "\n",
    "# Obtener usuaios que el nombre contenga gabriel\n",
    "df[df['nombre'].str.contains('Gabriel')]"
   ]
  },
  {
   "cell_type": "markdown",
   "metadata": {},
   "source": [
    "Agrupamiento"
   ]
  },
  {
   "cell_type": "code",
   "execution_count": 131,
   "metadata": {},
   "outputs": [
    {
     "data": {
      "text/plain": [
       "pais\n",
       "Denmark    12\n",
       "Name: pais, dtype: int64"
      ]
     },
     "execution_count": 131,
     "metadata": {},
     "output_type": "execute_result"
    }
   ],
   "source": [
    "# Mostrar la cantidad de hombres y mujeres del dataset\n",
    "df.groupby('genero')['genero'].count()\n",
    "\n",
    "# Mostrar el pais con mas mujeres\n",
    "df[df['genero'] == 'female'].groupby('pais')['pais'].count().sort_values(ascending=False).head(1)"
   ]
  }
 ],
 "metadata": {
  "kernelspec": {
   "display_name": "Python 3",
   "language": "python",
   "name": "python3"
  },
  "language_info": {
   "codemirror_mode": {
    "name": "ipython",
    "version": 3
   },
   "file_extension": ".py",
   "mimetype": "text/x-python",
   "name": "python",
   "nbconvert_exporter": "python",
   "pygments_lexer": "ipython3",
   "version": "3.12.0"
  }
 },
 "nbformat": 4,
 "nbformat_minor": 2
}
